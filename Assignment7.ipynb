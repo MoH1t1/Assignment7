{
  "metadata": {
    "kernelspec": {
      "name": "python",
      "display_name": "Python (Pyodide)",
      "language": "python"
    },
    "language_info": {
      "codemirror_mode": {
        "name": "python",
        "version": 3
      },
      "file_extension": ".py",
      "mimetype": "text/x-python",
      "name": "python",
      "nbconvert_exporter": "python",
      "pygments_lexer": "ipython3",
      "version": "3.8"
    }
  },
  "nbformat_minor": 4,
  "nbformat": 4,
  "cells": [
    {
      "cell_type": "code",
      "source": "# Q1. What is Abstraction in OOps? Explain with an example.\n\n# Abstraction in Object-Oriented Programming (OOP) is the concept of hiding the internal implementation of an object and exposing only the essential features to the user. \n\nfrom abc import ABC, abstractmethod\nclass Animal(ABC):\n    @abstractmethod\n    def make_sound(self):\n        pass\n\nclass Dog(Animal):\n    def make_sound(self):\n        return \"Bark\"\n\nclass Cat(Animal):\n    def make_sound(self):\n        return \"Meow\"\n\ndog = Dog()\nprint(dog.make_sound())  \n\ncat = Cat()\nprint(cat.make_sound()) \n",
      "metadata": {
        "trusted": true
      },
      "outputs": [
        {
          "name": "stdout",
          "text": "Bark\nMeow\n",
          "output_type": "stream"
        }
      ],
      "execution_count": 2
    },
    {
      "cell_type": "code",
      "source": "# Q2. Differentiate between Abstraction and Encapsulation. Explain with an example.\n\n# Abstraction and encapsulation are key concepts in object-oriented programming. Abstraction focuses on hiding implementation details and exposing only essential \n# features, such as defining abstract methods in a Shape class for area and perimeter without detailing their calculations. Encapsulation, on the other hand, bundles\n# data and methods into a single unit and restricts access to protect data, like a BankAccount class hiding its balance as a private variable accessed only through \n# controlled methods like deposit and withdraw. While abstraction deals with \"what\" a system does, encapsulation ensures \"how\" its data is accessed and protected.",
      "metadata": {
        "trusted": true
      },
      "outputs": [],
      "execution_count": null
    },
    {
      "cell_type": "code",
      "source": "# Q3. What is abc module in python? Why is it used?\n\n# The abc (Abstract Base Class) module in Python provides a mechanism for defining abstract base classes. It is used to create a blueprint for derived classes and to\n# enforce that certain methods must be implemented in derived classes.\n",
      "metadata": {
        "trusted": true
      },
      "outputs": [],
      "execution_count": null
    },
    {
      "cell_type": "code",
      "source": "# Q4. How can we achieve data abstraction?\n\n# Data abstraction can be achieved by:\n# Using abstract classes and methods: Define the structure while hiding implementation.\n# Using access modifiers: Control access to the data using public, protected, or private attributes.\n",
      "metadata": {
        "trusted": true
      },
      "outputs": [],
      "execution_count": null
    },
    {
      "cell_type": "code",
      "source": "# Q5. Can we create an instance of an abstract class? Explain your answer.\n\n# No, we cannot create an instance of an abstract class. Abstract classes are incomplete because they have one or more abstract methods without implementation. \n# They serve as a blueprint for derived classes and are not meant to be instantiated directly.\n\nfrom abc import ABC, abstractmethod\nclass AbstractExample(ABC):\n    @abstractmethod\n    def display(self):\n        pass\n\nexample = AbstractExample()  ",
      "metadata": {
        "trusted": true
      },
      "outputs": [],
      "execution_count": null
    }
  ]
}